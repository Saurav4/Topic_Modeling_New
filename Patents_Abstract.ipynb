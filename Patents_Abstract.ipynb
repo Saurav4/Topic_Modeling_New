{
 "cells": [
  {
   "cell_type": "code",
   "execution_count": 1,
   "metadata": {},
   "outputs": [
    {
     "data": {
      "text/plain": [
       "'C:\\\\Users\\\\Saurav\\\\Downloads'"
      ]
     },
     "execution_count": 1,
     "metadata": {},
     "output_type": "execute_result"
    }
   ],
   "source": [
    "pwd"
   ]
  },
  {
   "cell_type": "code",
   "execution_count": 4,
   "metadata": {},
   "outputs": [],
   "source": [
    "import numpy as np\n",
    "import pandas as pd\n",
    "\n",
    "#file reading\n",
    "df = pd.read_csv(r'C:\\\\Users\\\\Saurav\\\\Downloads\\Topic_Modeling_Task.csv')"
   ]
  },
  {
   "cell_type": "code",
   "execution_count": 5,
   "metadata": {},
   "outputs": [
    {
     "data": {
      "text/html": [
       "<div>\n",
       "<style scoped>\n",
       "    .dataframe tbody tr th:only-of-type {\n",
       "        vertical-align: middle;\n",
       "    }\n",
       "\n",
       "    .dataframe tbody tr th {\n",
       "        vertical-align: top;\n",
       "    }\n",
       "\n",
       "    .dataframe thead th {\n",
       "        text-align: right;\n",
       "    }\n",
       "</style>\n",
       "<table border=\"1\" class=\"dataframe\">\n",
       "  <thead>\n",
       "    <tr style=\"text-align: right;\">\n",
       "      <th></th>\n",
       "      <th>Patent_Id</th>\n",
       "      <th>Abstract</th>\n",
       "    </tr>\n",
       "  </thead>\n",
       "  <tbody>\n",
       "    <tr>\n",
       "      <th>0</th>\n",
       "      <td>US-5555388-A</td>\n",
       "      <td>A multi-user computer system having methods wh...</td>\n",
       "    </tr>\n",
       "    <tr>\n",
       "      <th>1</th>\n",
       "      <td>US-6219919-B1</td>\n",
       "      <td>A method for manufacturing a tapered rectangul...</td>\n",
       "    </tr>\n",
       "    <tr>\n",
       "      <th>2</th>\n",
       "      <td>US-5558477-A</td>\n",
       "      <td>Boring bar vibration damping is improved by a ...</td>\n",
       "    </tr>\n",
       "    <tr>\n",
       "      <th>3</th>\n",
       "      <td>US-5595976-A</td>\n",
       "      <td>A compound selected from those of formula (I):...</td>\n",
       "    </tr>\n",
       "    <tr>\n",
       "      <th>4</th>\n",
       "      <td>US-5821766-A</td>\n",
       "      <td>A method and apparatus for measuring the metal...</td>\n",
       "    </tr>\n",
       "  </tbody>\n",
       "</table>\n",
       "</div>"
      ],
      "text/plain": [
       "       Patent_Id                                           Abstract\n",
       "0   US-5555388-A  A multi-user computer system having methods wh...\n",
       "1  US-6219919-B1  A method for manufacturing a tapered rectangul...\n",
       "2   US-5558477-A  Boring bar vibration damping is improved by a ...\n",
       "3   US-5595976-A  A compound selected from those of formula (I):...\n",
       "4   US-5821766-A  A method and apparatus for measuring the metal..."
      ]
     },
     "execution_count": 5,
     "metadata": {},
     "output_type": "execute_result"
    }
   ],
   "source": [
    "df.head()"
   ]
  },
  {
   "cell_type": "code",
   "execution_count": 11,
   "metadata": {},
   "outputs": [],
   "source": [
    "# import a tfidf vectorizer model\n",
    "from sklearn.feature_extraction.text import TfidfVectorizer\n",
    "\n",
    "import re "
   ]
  },
  {
   "cell_type": "code",
   "execution_count": 12,
   "metadata": {},
   "outputs": [],
   "source": [
    "#deleting digits in the Abstract\n",
    "#Change_1\n",
    "\n",
    "df.Abstract = df.Abstract.str.replace('\\d+', '')"
   ]
  },
  {
   "cell_type": "code",
   "execution_count": 33,
   "metadata": {},
   "outputs": [],
   "source": [
    "#creating TfidfVectorizer instance and also removing the stop words,the words that occured just once\n",
    "#Also remove words that occured in more than 99% of the documents and also remove words occured in only 1 document\n",
    "tfidf=TfidfVectorizer(max_df=0.9,min_df=2,stop_words='english',ngram_range=(1,3))"
   ]
  },
  {
   "cell_type": "code",
   "execution_count": 34,
   "metadata": {},
   "outputs": [],
   "source": [
    "#creating a document term matrix depicting the frequency of the words\n",
    "#Change_2\n",
    "dtm=tfidf.fit_transform(df['Abstract'])"
   ]
  },
  {
   "cell_type": "code",
   "execution_count": 35,
   "metadata": {},
   "outputs": [
    {
     "data": {
      "text/plain": [
       "<100x810 sparse matrix of type '<class 'numpy.float64'>'\n",
       "\twith 2836 stored elements in Compressed Sparse Row format>"
      ]
     },
     "execution_count": 35,
     "metadata": {},
     "output_type": "execute_result"
    }
   ],
   "source": [
    "dtm"
   ]
  },
  {
   "cell_type": "code",
   "execution_count": 36,
   "metadata": {},
   "outputs": [
    {
     "data": {
      "text/plain": [
       "810"
      ]
     },
     "execution_count": 36,
     "metadata": {},
     "output_type": "execute_result"
    }
   ],
   "source": [
    "#Import Non-Negative matrix factorization Algorithm package\n",
    "# NMF decomposes data matrix V as a product of 2 lower rank matrices W and H\n",
    "#(NMF uses an iterative procedure to modify W and H so that their product approaches to V)\n",
    "from sklearn.decomposition import NMF\n",
    "len(tfidf.get_feature_names())"
   ]
  },
  {
   "cell_type": "code",
   "execution_count": 37,
   "metadata": {},
   "outputs": [
    {
     "name": "stdout",
     "output_type": "stream",
     "text": [
      "The top 10 words for topic 0\n",
      "['head', 'includes', 'open', 'engine', 'frame', 'member', 'cover', 'portion', 'case', 'end']\n",
      "The top 10 words for topic 1\n",
      "['optimal', 'data', 'means', 'signals', 'synthesis', 'image', 'using', 'digital signal', 'digital', 'signal']\n",
      "The top 10 words for topic 2\n",
      "['hydrogen', 'gases', 'water', 'exhaust', 'liquid', 'gas mixture', 'process', 'membrane', 'mixture', 'gas']\n",
      "The top 10 words for topic 3\n",
      "['semiconductor', 'having', 'color', 'current', 'contact', 'light', 'structure', 'surface', 'electrode', 'layer']\n",
      "The top 10 words for topic 4\n",
      "['test', 'displaying', 'processing', 'includes', 'interface', 'display', 'stream', 'reading', 'device', 'information']\n",
      "The top 10 words for topic 5\n",
      "['production', 'present invention relates', 'invention provides', 'rest', 'provides', 'invention relates', 'relates', 'section', 'invention', 'region']\n",
      "The top 10 words for topic 6\n",
      "['defined', 'element', 'selected', 'compound', 'represents', 'sub sub', 'lamp', 'formula', 'ch', 'sub']\n",
      "The top 10 words for topic 7\n",
      "['housing', 'spin', 'polishing', 'semiconductor wafer', 'chamber', 'raw', 'apparatus', 'material', 'wafer', 'film']\n",
      "The top 10 words for topic 8\n",
      "['value', 'address', 'operation', 'circuit', 'cells', 'bit', 'bus', 'signals', 'tag', 'memory']\n",
      "The top 10 words for topic 9\n",
      "['low', 'circuit', 'capacitance', 'gate', 'dc', 'output', 'phase', 'voltage', 'ripple', 'power']\n"
     ]
    }
   ],
   "source": [
    "#creating NMF model to predict 10 topics (labelled 0 to # fit the document term matrix to the created model.\n",
    "model.fit(dtm)# printing the top 15 words for each of the 20 topics\n",
    "\n",
    "for index, topic in enumerate(model.components_):\n",
    "    print(f\"The top 10 words for topic {index}\")\n",
    "    print([tfidf.get_feature_names()[i] for i in topic.argsort()[-10:]])\n"
   ]
  },
  {
   "cell_type": "code",
   "execution_count": null,
   "metadata": {},
   "outputs": [],
   "source": []
  }
 ],
 "metadata": {
  "kernelspec": {
   "display_name": "Python 3",
   "language": "python",
   "name": "python3"
  },
  "language_info": {
   "codemirror_mode": {
    "name": "ipython",
    "version": 3
   },
   "file_extension": ".py",
   "mimetype": "text/x-python",
   "name": "python",
   "nbconvert_exporter": "python",
   "pygments_lexer": "ipython3",
   "version": "3.7.6"
  }
 },
 "nbformat": 4,
 "nbformat_minor": 4
}
